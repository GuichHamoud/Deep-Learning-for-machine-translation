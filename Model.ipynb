{
 "cells": [
  {
   "cell_type": "code",
   "execution_count": 29,
   "metadata": {},
   "outputs": [],
   "source": [
    "from pickle import load\n",
    "from numpy import array\n",
    "from numpy import argmax\n",
    "from keras.preprocessing.text import Tokenizer\n",
    "from keras.preprocessing.sequence import pad_sequences\n",
    "from keras.utils import to_categorical\n",
    "from keras.utils.vis_utils import plot_model\n",
    "from keras.models import Sequential\n",
    "from keras.layers import LSTM\n",
    "from keras.layers import Dense\n",
    "from keras.layers import Embedding\n",
    "from keras.layers import RepeatVector\n",
    "from keras.layers import TimeDistributed\n",
    "from keras.callbacks import ModelCheckpoint\n",
    "from keras.models import load_model\n",
    "import matplotlib.pyplot as plt"
   ]
  },
  {
   "cell_type": "code",
   "execution_count": 2,
   "metadata": {},
   "outputs": [],
   "source": [
    "# load a clean dataset\n",
    "def load_clean_sentences(filename):\n",
    "    return load(open(filename, 'rb'))\n",
    "\n",
    "# fit a tokenizer\n",
    "def create_tokenizer(lines):\n",
    "    tokenizer = Tokenizer()\n",
    "    tokenizer.fit_on_texts(lines)\n",
    "    return tokenizer\n",
    "\n",
    "# max sentence length\n",
    "def max_length(lines):\n",
    "    return max(len(line.split()) for line in lines)\n",
    "\n",
    "# encode and pad sequences\n",
    "def encode_sequences(tokenizer, length, lines):\n",
    "    # integer encode sequences\n",
    "    X = tokenizer.texts_to_sequences(lines)\n",
    "    # pad sequences with 0 values\n",
    "    X = pad_sequences(X, maxlen=length, padding='post')\n",
    "    return X\n",
    "\n",
    "# one hot encode target sequence\n",
    "def encode_output(sequences, vocab_size):\n",
    "    ylist = list()\n",
    "    for sequence in sequences:\n",
    "        encoded = to_categorical(sequence, num_classes=vocab_size)\n",
    "        ylist.append(encoded)\n",
    "    y = array(ylist)\n",
    "    y = y.reshape(sequences.shape[0], sequences.shape[1], vocab_size)\n",
    "    return y\n",
    "\n",
    "# define NMT model\n",
    "def define_model(src_vocab, tar_vocab, src_timesteps, tar_timesteps, n_units):\n",
    "    model = Sequential()\n",
    "    model.add(Embedding(src_vocab, n_units, input_length=src_timesteps, mask_zero=True))\n",
    "    model.add(LSTM(n_units))\n",
    "    model.add(RepeatVector(tar_timesteps))\n",
    "    model.add(LSTM(n_units, return_sequences=True))\n",
    "    model.add(TimeDistributed(Dense(tar_vocab, activation='softmax')))\n",
    "    return model\n",
    "\n"
   ]
  },
  {
   "cell_type": "code",
   "execution_count": 3,
   "metadata": {},
   "outputs": [],
   "source": [
    "# load datasets\n",
    "dataset = load_clean_sentences('french-english-both.pkl')\n",
    "train = load_clean_sentences('french-english-train.pkl')\n",
    "test = load_clean_sentences('french-english-test.pkl')\n",
    "\n"
   ]
  },
  {
   "cell_type": "code",
   "execution_count": 4,
   "metadata": {},
   "outputs": [
    {
     "name": "stdout",
     "output_type": "stream",
     "text": [
      "English Vocabulary Size: 2201\n",
      "English Max Length: 5\n"
     ]
    }
   ],
   "source": [
    "# prepare english tokenizer\n",
    "eng_tokenizer = create_tokenizer(dataset[:, 0])\n",
    "eng_vocab_size = len(eng_tokenizer.word_index) + 1\n",
    "eng_length = max_length(dataset[:, 0])\n",
    "print('English Vocabulary Size: %d' % eng_vocab_size)\n",
    "print('English Max Length: %d' % (eng_length))"
   ]
  },
  {
   "cell_type": "code",
   "execution_count": 6,
   "metadata": {},
   "outputs": [
    {
     "name": "stdout",
     "output_type": "stream",
     "text": [
      "French Vocabulary Size: 4463\n",
      "French Max Length: 10\n"
     ]
    }
   ],
   "source": [
    "# prepare german tokenizer\n",
    "fra_tokenizer = create_tokenizer(dataset[:, 1])\n",
    "fra_vocab_size = len(fra_tokenizer.word_index) + 1\n",
    "fra_length = max_length(dataset[:, 1])\n",
    "print('French Vocabulary Size: %d' % fra_vocab_size)\n",
    "print('French Max Length: %d' % (fra_length))"
   ]
  },
  {
   "cell_type": "code",
   "execution_count": 7,
   "metadata": {},
   "outputs": [],
   "source": [
    "# prepare training data\n",
    "trainX = encode_sequences(fra_tokenizer, fra_length, train[:, 1])\n",
    "trainY = encode_sequences(eng_tokenizer, eng_length, train[:, 0])\n",
    "trainY = encode_output(trainY, eng_vocab_size)"
   ]
  },
  {
   "cell_type": "code",
   "execution_count": 9,
   "metadata": {},
   "outputs": [],
   "source": [
    "# prepare validation data\n",
    "testX = encode_sequences(fra_tokenizer, fra_length, test[:, 1])\n",
    "testY = encode_sequences(eng_tokenizer, eng_length, test[:, 0])\n",
    "testY = encode_output(testY, eng_vocab_size)"
   ]
  },
  {
   "cell_type": "code",
   "execution_count": 10,
   "metadata": {},
   "outputs": [
    {
     "name": "stdout",
     "output_type": "stream",
     "text": [
      "WARNING:tensorflow:From /home/hamoud/anaconda3/lib/python3.7/site-packages/keras/backend/tensorflow_backend.py:74: The name tf.get_default_graph is deprecated. Please use tf.compat.v1.get_default_graph instead.\n",
      "\n",
      "WARNING:tensorflow:From /home/hamoud/anaconda3/lib/python3.7/site-packages/keras/backend/tensorflow_backend.py:517: The name tf.placeholder is deprecated. Please use tf.compat.v1.placeholder instead.\n",
      "\n",
      "WARNING:tensorflow:From /home/hamoud/anaconda3/lib/python3.7/site-packages/keras/backend/tensorflow_backend.py:4138: The name tf.random_uniform is deprecated. Please use tf.random.uniform instead.\n",
      "\n",
      "WARNING:tensorflow:From /home/hamoud/anaconda3/lib/python3.7/site-packages/keras/backend/tensorflow_backend.py:2974: where (from tensorflow.python.ops.array_ops) is deprecated and will be removed in a future version.\n",
      "Instructions for updating:\n",
      "Use tf.where in 2.0, which has the same broadcast rule as np.where\n",
      "WARNING:tensorflow:From /home/hamoud/anaconda3/lib/python3.7/site-packages/keras/optimizers.py:790: The name tf.train.Optimizer is deprecated. Please use tf.compat.v1.train.Optimizer instead.\n",
      "\n",
      "WARNING:tensorflow:From /home/hamoud/anaconda3/lib/python3.7/site-packages/keras/backend/tensorflow_backend.py:3295: The name tf.log is deprecated. Please use tf.math.log instead.\n",
      "\n"
     ]
    }
   ],
   "source": [
    "# define model\n",
    "model = define_model(fra_vocab_size, eng_vocab_size, fra_length, eng_length, 256)\n",
    "model.compile(optimizer='adam', loss='categorical_crossentropy')"
   ]
  },
  {
   "cell_type": "code",
   "execution_count": 11,
   "metadata": {},
   "outputs": [],
   "source": [
    "model.compile(optimizer='adam', loss='categorical_crossentropy',metrics=['acc'])\n"
   ]
  },
  {
   "cell_type": "code",
   "execution_count": 12,
   "metadata": {},
   "outputs": [
    {
     "name": "stdout",
     "output_type": "stream",
     "text": [
      "WARNING:tensorflow:From /home/hamoud/anaconda3/lib/python3.7/site-packages/keras/backend/tensorflow_backend.py:986: The name tf.assign_add is deprecated. Please use tf.compat.v1.assign_add instead.\n",
      "\n",
      "WARNING:tensorflow:From /home/hamoud/anaconda3/lib/python3.7/site-packages/keras/backend/tensorflow_backend.py:973: The name tf.assign is deprecated. Please use tf.compat.v1.assign instead.\n",
      "\n",
      "WARNING:tensorflow:From /home/hamoud/anaconda3/lib/python3.7/site-packages/keras/backend/tensorflow_backend.py:2741: The name tf.Session is deprecated. Please use tf.compat.v1.Session instead.\n",
      "\n",
      "Train on 9000 samples, validate on 1000 samples\n",
      "Epoch 1/30\n",
      "WARNING:tensorflow:From /home/hamoud/anaconda3/lib/python3.7/site-packages/keras/backend/tensorflow_backend.py:174: The name tf.get_default_session is deprecated. Please use tf.compat.v1.get_default_session instead.\n",
      "\n",
      "WARNING:tensorflow:From /home/hamoud/anaconda3/lib/python3.7/site-packages/keras/backend/tensorflow_backend.py:181: The name tf.ConfigProto is deprecated. Please use tf.compat.v1.ConfigProto instead.\n",
      "\n",
      "WARNING:tensorflow:From /home/hamoud/anaconda3/lib/python3.7/site-packages/keras/backend/tensorflow_backend.py:190: The name tf.global_variables is deprecated. Please use tf.compat.v1.global_variables instead.\n",
      "\n",
      "WARNING:tensorflow:From /home/hamoud/anaconda3/lib/python3.7/site-packages/keras/backend/tensorflow_backend.py:199: The name tf.is_variable_initialized is deprecated. Please use tf.compat.v1.is_variable_initialized instead.\n",
      "\n",
      "WARNING:tensorflow:From /home/hamoud/anaconda3/lib/python3.7/site-packages/keras/backend/tensorflow_backend.py:206: The name tf.variables_initializer is deprecated. Please use tf.compat.v1.variables_initializer instead.\n",
      "\n",
      " - 32s - loss: 4.3117 - acc: 0.4371 - val_loss: 3.5131 - val_acc: 0.4580\n",
      "Epoch 2/30\n",
      " - 25s - loss: 3.3609 - acc: 0.4646 - val_loss: 3.3244 - val_acc: 0.4660\n",
      "Epoch 3/30\n",
      " - 24s - loss: 3.1853 - acc: 0.4772 - val_loss: 3.2212 - val_acc: 0.4814\n",
      "Epoch 4/30\n",
      " - 26s - loss: 3.0502 - acc: 0.4888 - val_loss: 3.0987 - val_acc: 0.4886\n",
      "Epoch 5/30\n",
      " - 26s - loss: 2.8821 - acc: 0.5080 - val_loss: 2.9732 - val_acc: 0.5100\n",
      "Epoch 6/30\n",
      " - 25s - loss: 2.7211 - acc: 0.5285 - val_loss: 2.8524 - val_acc: 0.5256\n",
      "Epoch 7/30\n",
      " - 24s - loss: 2.5627 - acc: 0.5444 - val_loss: 2.7514 - val_acc: 0.5400\n",
      "Epoch 8/30\n",
      " - 30s - loss: 2.4201 - acc: 0.5630 - val_loss: 2.6504 - val_acc: 0.5534\n",
      "Epoch 9/30\n",
      " - 25s - loss: 2.2789 - acc: 0.5816 - val_loss: 2.5477 - val_acc: 0.5746\n",
      "Epoch 10/30\n",
      " - 23s - loss: 2.1292 - acc: 0.6022 - val_loss: 2.4497 - val_acc: 0.5872\n",
      "Epoch 11/30\n",
      " - 23s - loss: 1.9820 - acc: 0.6232 - val_loss: 2.3857 - val_acc: 0.5958\n",
      "Epoch 12/30\n",
      " - 23s - loss: 1.8506 - acc: 0.6393 - val_loss: 2.2922 - val_acc: 0.6110\n",
      "Epoch 13/30\n",
      " - 24s - loss: 1.7177 - acc: 0.6567 - val_loss: 2.2442 - val_acc: 0.6182\n",
      "Epoch 14/30\n",
      " - 27s - loss: 1.6024 - acc: 0.6709 - val_loss: 2.1917 - val_acc: 0.6194\n",
      "Epoch 15/30\n",
      " - 23s - loss: 1.4911 - acc: 0.6848 - val_loss: 2.1319 - val_acc: 0.6352\n",
      "Epoch 16/30\n",
      " - 23s - loss: 1.3896 - acc: 0.7022 - val_loss: 2.0957 - val_acc: 0.6326\n",
      "Epoch 17/30\n",
      " - 23s - loss: 1.2905 - acc: 0.7174 - val_loss: 2.0564 - val_acc: 0.6474\n",
      "Epoch 18/30\n",
      " - 24s - loss: 1.1938 - acc: 0.7335 - val_loss: 2.0300 - val_acc: 0.6508\n",
      "Epoch 19/30\n",
      " - 23s - loss: 1.1012 - acc: 0.7510 - val_loss: 2.0030 - val_acc: 0.6556\n",
      "Epoch 20/30\n",
      " - 24s - loss: 1.0193 - acc: 0.7666 - val_loss: 1.9693 - val_acc: 0.6662\n",
      "Epoch 21/30\n",
      " - 23s - loss: 0.9345 - acc: 0.7848 - val_loss: 1.9473 - val_acc: 0.6740\n",
      "Epoch 22/30\n",
      " - 23s - loss: 0.8586 - acc: 0.8011 - val_loss: 1.9378 - val_acc: 0.6792\n",
      "Epoch 23/30\n",
      " - 23s - loss: 0.7874 - acc: 0.8177 - val_loss: 1.9110 - val_acc: 0.6868\n",
      "Epoch 24/30\n",
      " - 24s - loss: 0.7191 - acc: 0.8332 - val_loss: 1.8920 - val_acc: 0.6906\n",
      "Epoch 25/30\n",
      " - 28s - loss: 0.6552 - acc: 0.8492 - val_loss: 1.8864 - val_acc: 0.6964\n",
      "Epoch 26/30\n",
      " - 25s - loss: 0.5994 - acc: 0.8617 - val_loss: 1.8817 - val_acc: 0.6960\n",
      "Epoch 27/30\n",
      " - 28s - loss: 0.5487 - acc: 0.8741 - val_loss: 1.8528 - val_acc: 0.7002\n",
      "Epoch 28/30\n",
      " - 26s - loss: 0.4989 - acc: 0.8855 - val_loss: 1.8448 - val_acc: 0.7090\n",
      "Epoch 29/30\n",
      " - 25s - loss: 0.4550 - acc: 0.8948 - val_loss: 1.8497 - val_acc: 0.7096\n",
      "Epoch 30/30\n",
      " - 25s - loss: 0.4148 - acc: 0.9058 - val_loss: 1.8359 - val_acc: 0.7152\n"
     ]
    }
   ],
   "source": [
    "history=model.fit(trainX, trainY, epochs=30, batch_size=64, validation_data=(testX, testY), verbose=2)"
   ]
  },
  {
   "cell_type": "code",
   "execution_count": 30,
   "metadata": {},
   "outputs": [
    {
     "data": {
      "text/plain": [
       "[<matplotlib.lines.Line2D at 0x7f0a876dc490>]"
      ]
     },
     "execution_count": 30,
     "metadata": {},
     "output_type": "execute_result"
    },
    {
     "data": {
      "image/png": "[encoded data removed]",
      "text/plain": [
       "<Figure size 432x288 with 1 Axes>"
      ]
     },
     "metadata": {
      "needs_background": "light"
     },
     "output_type": "display_data"
    }
   ],
   "source": [
    "#print loss\n",
    "plt.plot(history.history['loss'])"
   ]
  },
  {
   "cell_type": "code",
   "execution_count": 31,
   "metadata": {},
   "outputs": [
    {
     "data": {
      "text/plain": [
       "[<matplotlib.lines.Line2D at 0x7f0a95ccac10>]"
      ]
     },
     "execution_count": 31,
     "metadata": {},
     "output_type": "execute_result"
    },
    {
     "data": {
      "image/png": "[encoded data removed]",
      "text/plain": [
       "<Figure size 432x288 with 1 Axes>"
      ]
     },
     "metadata": {
      "needs_background": "light"
     },
     "output_type": "display_data"
    }
   ],
   "source": [
    "#print accuracy\n",
    "plt.plot(history.history['acc'])"
   ]
  },
  {
   "cell_type": "code",
   "execution_count": 13,
   "metadata": {},
   "outputs": [],
   "source": [
    "# map an integer to a word\n",
    "def word_for_id(integer, tokenizer):\n",
    "    for word, index in tokenizer.word_index.items():\n",
    "        if index == integer:\n",
    "            return word\n",
    "    return None\n",
    "\n",
    "# generate target given source sequence\n",
    "def predict_sequence(model, tokenizer, source):\n",
    "    prediction = model.predict(source, verbose=0)[0]\n",
    "    integers = [argmax(vector) for vector in prediction]\n",
    "    target = list()\n",
    "    for i in integers:\n",
    "        word = word_for_id(i, tokenizer)\n",
    "        if word is None:\n",
    "            break\n",
    "        target.append(word)\n",
    "    return ' '.join(target)"
   ]
  },
  {
   "cell_type": "code",
   "execution_count": 21,
   "metadata": {},
   "outputs": [
    {
     "data": {
      "text/plain": [
       "array([  1,   2, 152, 286,   0,   0,   0,   0,   0,   0], dtype=int32)"
      ]
     },
     "execution_count": 21,
     "metadata": {},
     "output_type": "execute_result"
    }
   ],
   "source": [
    "trainX[0]"
   ]
  },
  {
   "cell_type": "code",
   "execution_count": 28,
   "metadata": {},
   "outputs": [
    {
     "name": "stdout",
     "output_type": "stream",
     "text": [
      "source=[je suis tellement desole], target=[i am so sorry], predicted=[i am so sorry]\n",
      "source=[quelle femme], target=[what a woman], predicted=[what a woman]\n",
      "source=[je buvais du lait], target=[i drank milk], predicted=[i drank milk]\n",
      "source=[nous sommes condamnes], target=[were doomed], predicted=[were are]\n",
      "source=[je lui parlai], target=[i talked to her], predicted=[i saw to him]\n",
      "source=[comment allezvous], target=[how are you], predicted=[how are you]\n",
      "source=[nous avons un plan], target=[we have a plan], predicted=[we have a plan]\n",
      "source=[je vois quelque chose], target=[i see something], predicted=[i see something]\n",
      "source=[je suis faineante], target=[i am lazy], predicted=[im lazy lazy]\n",
      "source=[reviens a toi], target=[snap out of it], predicted=[come out of it]\n"
     ]
    }
   ],
   "source": [
    "#Test the translation quality\n",
    "i=0\n",
    "while i < 10:\n",
    "    source =trainX[i]\n",
    "    source = source.reshape((1, source.shape[0]))\n",
    "    translation = predict_sequence(model, eng_tokenizer, source)\n",
    "    print('source=[%s], target=[%s], predicted=[%s]' % (dataset[i,1], dataset[i,0], translation))\n",
    "    i=i+1"
   ]
  },
  {
   "cell_type": "code",
   "execution_count": null,
   "metadata": {},
   "outputs": [],
   "source": []
  }
 ],
 "metadata": {
  "kernelspec": {
   "display_name": "Python 3",
   "language": "python",
   "name": "python3"
  },
  "language_info": {
   "codemirror_mode": {
    "name": "ipython",
    "version": 3
   },
   "file_extension": ".py",
   "mimetype": "text/x-python",
   "name": "python",
   "nbconvert_exporter": "python",
   "pygments_lexer": "ipython3",
   "version": "3.7.4"
  }
 },
 "nbformat": 4,
 "nbformat_minor": 2
}
